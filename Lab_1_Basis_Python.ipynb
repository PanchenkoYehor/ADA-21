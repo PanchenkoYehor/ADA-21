{
 "cells": [
  {
   "cell_type": "markdown",
   "metadata": {},
   "source": [
    "# Варіант 9 - Панченко Єгор"
   ]
  },
  {
   "cell_type": "markdown",
   "metadata": {},
   "source": [
    "## Умова"
   ]
  },
  {
   "cell_type": "markdown",
   "metadata": {},
   "source": [
    "Дано масив $T = \\{(t_i)|t_i = (x_{i1}, x_{i2}, ..., x_{im}), i = 1, ..., N\\}, x_{ij} ∈ R$, де\n",
    "приклад $t_i$ характеризується $m$ ознаками. \n",
    "\n",
    "Задано кiлькiсть кластерiв $2 ≤ g ≤ N$. \n",
    "\n",
    "Розрахувати центри кластерiв за формулою (класичний метод $k$-середнiх):\n",
    "\n",
    "$c_k = \\frac{\\sum_{i=1}^{N} u_{ki}t_i}{\\sum_{i=1}^{N} u_{ki}}, k = 1, ...,g,$ де $U = \\{(u_{ki})|k = 1, ..., g, i = 1, ..., N\\}$ - випадковим чином задана матриця початкового розбиття, $u_{ki} ∈ {0, 1}, \\sum_{i=1}^{g} u_{ki} = 1, \\sum_{i=1}^{N} u_{ki} < N.$\n",
    "\n",
    "  Перерахувати матрицю розбиття:\n",
    "$u_{ki} = 1$, якщо $d(t_i, c_k) = min_{l = 1, ..., g} d(t_i, c_l)$,\n",
    "\n",
    "$u_{ki} = 0$ в iншому випадку,\n",
    "за умови, що $d(t_i, c_k)$ - евклiдова вiдстань мiж векторами.\n",
    "\n",
    "Виконати декiлька iтерацiй з уточнення центрiв кластерiв."
   ]
  },
  {
   "cell_type": "markdown",
   "metadata": {},
   "source": [
    "### Розв'язок"
   ]
  },
  {
   "cell_type": "code",
   "execution_count": 414,
   "metadata": {},
   "outputs": [],
   "source": [
    "import numpy as np\n",
    "import pandas as pd\n",
    "from sklearn.datasets.samples_generator import make_blobs\n",
    "import matplotlib.pyplot as plt"
   ]
  },
  {
   "cell_type": "markdown",
   "metadata": {},
   "source": [
    "Функція, що вираховує центри нинішніх кластерів"
   ]
  },
  {
   "cell_type": "code",
   "execution_count": 415,
   "metadata": {},
   "outputs": [],
   "source": [
    "def CalculateCenters(T, U):\n",
    "    g, n = U.shape\n",
    "    c = []\n",
    "    \n",
    "    for k in range(g):\n",
    "        c.append(np.einsum('i,ij->j', U[k][:], T) / np.sum(U[k][:]))\n",
    "                    \n",
    "    c = np.array(c)\n",
    "    return c"
   ]
  },
  {
   "cell_type": "markdown",
   "metadata": {},
   "source": [
    "Перерахунок вагової матриці"
   ]
  },
  {
   "cell_type": "code",
   "execution_count": 416,
   "metadata": {},
   "outputs": [],
   "source": [
    "def UpdateU(U, T, c):\n",
    "    g, n = U.shape\n",
    "    \n",
    "    for k in range(g):\n",
    "        for i in range(n):\n",
    "            x = [np.linalg.norm(T[i] - c[l]) for l in range(g)]\n",
    "            mn = min([np.linalg.norm(T[i] - c[l]) for l in range(g)])\n",
    "                \n",
    "            U[k][i] = 1 if np.linalg.norm(T[i] - c[k]) == mn else 0\n",
    "                \n",
    "    return U"
   ]
  },
  {
   "cell_type": "markdown",
   "metadata": {},
   "source": [
    "### Usage example"
   ]
  },
  {
   "cell_type": "markdown",
   "metadata": {},
   "source": [
    "По дефолту генеруємо $g$ блобів, але можна згенерувати просто рандомні точки. Потім генеруємо матрицю $U$"
   ]
  },
  {
   "cell_type": "code",
   "execution_count": 417,
   "metadata": {},
   "outputs": [
    {
     "name": "stdout",
     "output_type": "stream",
     "text": [
      "U:\n",
      " [[1. 0. 0. 0. 1. 1. 0. 1. 0. 1. 0. 0. 0. 0. 0. 0. 1. 0. 0. 0.]\n",
      " [0. 0. 1. 1. 0. 0. 1. 0. 0. 0. 0. 0. 0. 0. 0. 0. 0. 0. 0. 0.]\n",
      " [0. 0. 0. 0. 0. 0. 0. 0. 0. 0. 0. 0. 0. 1. 1. 1. 0. 1. 1. 0.]\n",
      " [0. 1. 0. 0. 0. 0. 0. 0. 1. 0. 1. 1. 1. 0. 0. 0. 0. 0. 0. 1.]]\n"
     ]
    },
    {
     "data": {
      "image/png": "[encoded data removed]",
      "text/plain": [
       "<Figure size 432x288 with 1 Axes>"
      ]
     },
     "metadata": {
      "needs_background": "light"
     },
     "output_type": "display_data"
    }
   ],
   "source": [
    "MakeBlobs = True\n",
    "N = 20\n",
    "M = 2\n",
    "g = 4\n",
    "T, clust\n",
    "'''T = np.array([[1, 0, 0, 0, 0], \n",
    "              [0, 1, 0, 0, 0], \n",
    "              [0, 0, 1, 0, 0],\n",
    "              [0, 0, 0, 1, 1]])'''\n",
    "\n",
    "if MakeBlobs == True:\n",
    "    T, clust = make_blobs(N, M, centers = g)\n",
    "    T = np.array(T)\n",
    "    if M == 2:\n",
    "        plt.scatter(T[:, 0], T[:, 1], c = clust)\n",
    "else:\n",
    "    T = np.random.rand(N, M)\n",
    "U\n",
    "while True:\n",
    "    U = np.random.rand(g, N)\n",
    "    sm = np.zeros(g)\n",
    "    for i in range(N):\n",
    "        argm = np.argmax(U[:, i])\n",
    "        U[:, i] = [0] * g\n",
    "        U[argm, i] = 1\n",
    "        sm[argm] = 1\n",
    "    if sm.all():\n",
    "        break\n",
    "#print(\"T:\\n\", T, \"\\n\")\n",
    "print(\"U:\\n\", U)"
   ]
  },
  {
   "cell_type": "markdown",
   "metadata": {},
   "source": [
    "Робимо ітерації по уточненню центрів"
   ]
  },
  {
   "cell_type": "code",
   "execution_count": 418,
   "metadata": {},
   "outputs": [
    {
     "name": "stdout",
     "output_type": "stream",
     "text": [
      "Epoch  0\n",
      "Epoch  1\n",
      "Epoch  2\n",
      "Epoch  3\n",
      "Epoch  4\n"
     ]
    }
   ],
   "source": [
    "for times in range(5):\n",
    "    print(\"Epoch \", times);\n",
    "    cnew = CalculateCenters(T, U)\n",
    "    #print(\"c:\\n\", cnew)\n",
    "    Unew = UpdateU(U, T, cnew)\n",
    "    \n",
    "    #print(\"U:\\n\", Unew)\n",
    "    \n",
    "    c = cnew\n",
    "    U = Unew"
   ]
  },
  {
   "cell_type": "markdown",
   "metadata": {},
   "source": [
    "Нижче кластеризація, отримана реалізованим алгоритмом"
   ]
  },
  {
   "cell_type": "code",
   "execution_count": 419,
   "metadata": {
    "scrolled": false
   },
   "outputs": [
    {
     "data": {
      "image/png": "[encoded data removed]",
      "text/plain": [
       "<Figure size 432x288 with 1 Axes>"
      ]
     },
     "metadata": {
      "needs_background": "light"
     },
     "output_type": "display_data"
    }
   ],
   "source": [
    "if M == 2 and MakeBlobs == True:\n",
    "    px = T[:, 0]\n",
    "    py = T[:, 1]\n",
    "    col = clust\n",
    "    add = [np.argmax(U[:, i]) for i in range(N)]\n",
    "    plt.scatter(x = px, y = py, c = add)"
   ]
  },
  {
   "cell_type": "markdown",
   "metadata": {},
   "source": [
    "Нижче кластеризація, отримана реалізованим алгоритмом з центрами відповідних кластерів. Також виводиться послідовність лейблів - до якого кластеру належить кожна з точок"
   ]
  },
  {
   "cell_type": "code",
   "execution_count": 420,
   "metadata": {},
   "outputs": [
    {
     "name": "stdout",
     "output_type": "stream",
     "text": [
      "[2 3 1 0 1 2 1 0 2 3 1 0 0 2 2 1 0 3 1 1 0 1 2 3]\n"
     ]
    },
    {
     "data": {
      "image/png": "[encoded data removed]",
      "text/plain": [
       "<Figure size 432x288 with 1 Axes>"
      ]
     },
     "metadata": {
      "needs_background": "light"
     },
     "output_type": "display_data"
    }
   ],
   "source": [
    "if M == 2 and MakeBlobs == True:\n",
    "    px = np.hstack((T[:, 0], c[:, 0]))\n",
    "    py = np.hstack((T[:, 1], c[:, 1]))\n",
    "    add = [np.argmax(U[:, i]) for i in range(N)]\n",
    "    col = np.hstack((add, np.array([i for i in range(g)])))\n",
    "    s = np.hstack(([49 for i in range(len(add))], [256 for i in range(g)]))\n",
    "    print(col)\n",
    "    plt.scatter(x = px, y = py, c = col, s = s)"
   ]
  }
 ],
 "metadata": {
  "kernelspec": {
   "display_name": "Python 3",
   "language": "python",
   "name": "python3"
  },
  "language_info": {
   "codemirror_mode": {
    "name": "ipython",
    "version": 3
   },
   "file_extension": ".py",
   "mimetype": "text/x-python",
   "name": "python",
   "nbconvert_exporter": "python",
   "pygments_lexer": "ipython3",
   "version": "3.8.5"
  }
 },
 "nbformat": 4,
 "nbformat_minor": 4
}
